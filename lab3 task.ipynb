{
 "cells": [
  {
   "cell_type": "markdown",
   "metadata": {},
   "source": [
    "# Task 1"
   ]
  },
  {
   "cell_type": "markdown",
   "metadata": {},
   "source": [
    "# Write a program to find the largest of ten numbers provided by user, using functions.\n"
   ]
  },
  {
   "cell_type": "code",
   "execution_count": 7,
   "metadata": {},
   "outputs": [
    {
     "name": "stdout",
     "output_type": "stream",
     "text": [
      "How many numbers? 10\n",
      "Enter number: 56\n",
      "Enter number: 90\n",
      "Enter number: 77\n",
      "Enter number: 34\n",
      "Enter number: 34\n",
      "Enter number: 67\n",
      "Enter number: 89\n",
      "Enter number: 90\n",
      "Enter number: 66\n",
      "Enter number: 667\n",
      "you Entered : [45, 90, 67, 78, 89, 55, 23, 45, 8, 1, 56, 90, 77, 34, 34, 67, 89, 90, 66, 667]\n",
      "Largest element of the list is : 667\n"
     ]
    }
   ],
   "source": [
    "#list1 = []\n",
    "\n",
    "# user enters the number of elements to put in list\n",
    "num = int(input('How many numbers? '))\n",
    "\n",
    "# iterating till count to append all input elements in list\n",
    "for n in range(num):\n",
    "    number = int(input('Enter number: '))\n",
    "    list1.append(number)\n",
    "print(\"you Entered :\",list1)\n",
    "# displaying largest element\n",
    "print(\"Largest element of the list is :\", max(list1))"
   ]
  },
  {
   "cell_type": "markdown",
   "metadata": {},
   "source": [
    "# Task 2"
   ]
  },
  {
   "cell_type": "markdown",
   "metadata": {},
   "source": [
    "# Create a class name basic_calc with following attributes and methods;\n",
    "Two integers (values are passed with instance creation)\n",
    "Different methods such as addition, subtraction, division, multiplication"
   ]
  },
  {
   "cell_type": "code",
   "execution_count": 20,
   "metadata": {},
   "outputs": [
    {
     "name": "stdout",
     "output_type": "stream",
     "text": [
      "Enter First Number:5\n",
      "Enter Second Number:8\n",
      "The sum of Two Number is:\n",
      "13\n",
      "The substraction of Two Number is:\n",
      "-3\n",
      "The Multiplication of Two Number is:\n",
      "40\n",
      "The division of Two Number is:\n",
      "0.625\n"
     ]
    }
   ],
   "source": [
    "class  basic_calc:\n",
    "    def __init__(self,a,b):\n",
    "        self.a=a\n",
    "        self.b=b\n",
    "    def add(self):\n",
    "        print(self.a+self.b)\n",
    "    def sub(self):\n",
    "        print(self.a-self.b)\n",
    "    def mul(self):\n",
    "        print(self.a*self.b)\n",
    "    def div(self):\n",
    "        print(self.a/self.b)\n",
    "num1=int(input(\"Enter First Number:\"))  \n",
    "num2=int(input(\"Enter Second Number:\"))\n",
    "p=basic_calc(num1,num2)\n",
    "print(\"The sum of Two Number is:\")\n",
    "p.add()\n",
    "print(\"The substraction of Two Number is:\")\n",
    "p.sub()\n",
    "print(\"The Multiplication of Two Number is:\")\n",
    "p.mul()\n",
    "print(\"The division of Two Number is:\")\n",
    "p.div()"
   ]
  },
  {
   "cell_type": "code",
   "execution_count": null,
   "metadata": {},
   "outputs": [],
   "source": [
    "                                                                                                                                                                                                                                                                                                                                      "
   ]
  },
  {
   "cell_type": "code",
   "execution_count": null,
   "metadata": {},
   "outputs": [],
   "source": []
  },
  {
   "cell_type": "code",
   "execution_count": null,
   "metadata": {},
   "outputs": [],
   "source": []
  },
  {
   "cell_type": "code",
   "execution_count": null,
   "metadata": {},
   "outputs": [],
   "source": []
  }
 ],
 "metadata": {
  "kernelspec": {
   "display_name": "Python 3",
   "language": "python",
   "name": "python3"
  },
  "language_info": {
   "codemirror_mode": {
    "name": "ipython",
    "version": 3
   },
   "file_extension": ".py",
   "mimetype": "text/x-python",
   "name": "python",
   "nbconvert_exporter": "python",
   "pygments_lexer": "ipython3",
   "version": "3.8.5"
  }
 },
 "nbformat": 4,
 "nbformat_minor": 4
}
