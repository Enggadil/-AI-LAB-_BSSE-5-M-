{
 "cells": [
  {
   "cell_type": "code",
   "execution_count": null,
   "metadata": {},
   "outputs": [],
   "source": []
  },
  {
   "cell_type": "code",
   "execution_count": 4,
   "metadata": {},
   "outputs": [
    {
     "name": "stdout",
     "output_type": "stream",
     "text": [
      "     Age        BMI  Glucose  Insulin      HOMA   Leptin  Adiponectin  \\\n",
      "0     48  23.500000       70    2.707  0.467409   8.8071     9.702400   \n",
      "1     83  20.690495       92    3.115  0.706897   8.8438     5.429285   \n",
      "2     82  23.124670       91    4.498  1.009651  17.9393    22.432040   \n",
      "3     68  21.367521       77    3.226  0.612725   9.8827     7.169560   \n",
      "4     86  21.111111       92    3.549  0.805386   6.6994     4.819240   \n",
      "..   ...        ...      ...      ...       ...      ...          ...   \n",
      "111   45  26.850000       92    3.330  0.755688  54.6800    12.100000   \n",
      "112   62  26.840000      100    4.530  1.117400  12.4500    21.420000   \n",
      "113   65  32.050000       97    5.730  1.370998  61.4800    22.540000   \n",
      "114   72  25.590000       82    2.820  0.570392  24.9600    33.750000   \n",
      "115   86  27.180000      138   19.910  6.777364  90.2800    14.110000   \n",
      "\n",
      "     Resistin    MCP.1  Classification  \n",
      "0     7.99585  417.114               1  \n",
      "1     4.06405  468.786               1  \n",
      "2     9.27715  554.697               1  \n",
      "3    12.76600  928.220               1  \n",
      "4    10.57635  773.920               1  \n",
      "..        ...      ...             ...  \n",
      "111  10.96000  268.230               2  \n",
      "112   7.32000  330.160               2  \n",
      "113  10.33000  314.050               2  \n",
      "114   3.27000  392.460               2  \n",
      "115   4.35000   90.090               2  \n",
      "\n",
      "[116 rows x 10 columns]\n",
      "Scaled Data\n",
      "[[-0.57979363 -0.81667527 -1.23922225 ... -0.54551749 -0.34125061\n",
      "  -1.10940039]\n",
      " [ 1.60182096 -1.37875056 -0.25829943 ... -0.86421418 -0.1912238\n",
      "  -1.10940039]\n",
      " [ 1.53948912 -0.89176446 -0.30288683 ... -0.4416602   0.05821407\n",
      "  -1.10940039]\n",
      " ...\n",
      " [ 0.47984774  0.89385486 -0.03536242 ... -0.3563202  -0.64049127\n",
      "   0.90138782]\n",
      " [ 0.91617066 -0.39854568 -0.70417344 ... -0.92857684 -0.41283214\n",
      "   0.90138782]\n",
      " [ 1.7888165  -0.0804471   1.79272102 ... -0.84103616 -1.29074683\n",
      "   0.90138782]]\n"
     ]
    }
   ],
   "source": [
    "import pandas as pd\n",
    "data = pd.read_csv('dataR2 (1).csv')\n",
    "data.head()\n",
    "# example of a standardization\n",
    "from numpy import asarray\n",
    "from sklearn.preprocessing import StandardScaler\n",
    "# define data\n",
    "print(data)\n",
    "# define standard scaler\n",
    "scaler = StandardScaler()\n",
    "# transform data\n",
    "scaled = scaler.fit_transform(data)\n",
    "print(\"Scaled Data\")\n",
    "print(scaled)\n"
   ]
  },
  {
   "cell_type": "code",
   "execution_count": 5,
   "metadata": {},
   "outputs": [
    {
     "name": "stdout",
     "output_type": "stream",
     "text": [
      "0      1\n",
      "1      1\n",
      "2      1\n",
      "3      1\n",
      "4      1\n",
      "      ..\n",
      "111    2\n",
      "112    2\n",
      "113    2\n",
      "114    2\n",
      "115    2\n",
      "Name: Classification, Length: 116, dtype: int64\n"
     ]
    }
   ],
   "source": [
    "inputs = data.drop('Classification', axis='columns')\n",
    "target = data['Classification']\n",
    "print(target)"
   ]
  },
  {
   "cell_type": "code",
   "execution_count": 28,
   "metadata": {},
   "outputs": [
    {
     "name": "stdout",
     "output_type": "stream",
     "text": [
      "       Age_st    BMI_st  Glucose_st  Insulin_st   HOMA_st  Leptin_st  \\\n",
      "0   -0.579794 -0.816675   -1.239222   -0.728739 -0.614282  -0.932334   \n",
      "1    1.601821 -1.378751   -0.258299   -0.688038 -0.548240  -0.930413   \n",
      "2    1.539489 -0.891764   -0.302887   -0.550073 -0.464752  -0.454219   \n",
      "3    0.666843 -1.243303   -0.927110   -0.676965 -0.574210  -0.876021   \n",
      "4    1.788816 -1.294601   -0.258299   -0.644743 -0.521081  -1.042682   \n",
      "..        ...       ...         ...         ...       ...        ...   \n",
      "111 -0.766789 -0.146468   -0.258299   -0.666590 -0.534786   1.469335   \n",
      "112  0.292852 -0.148468    0.098400   -0.546881 -0.435039  -0.741611   \n",
      "113  0.479848  0.893855   -0.035362   -0.427172 -0.365106   1.825348   \n",
      "114  0.916171 -0.398546   -0.704173   -0.717467 -0.585883  -0.086651   \n",
      "115  1.788816 -0.080447    1.792721    0.987394  1.125766   3.333167   \n",
      "\n",
      "     Adiponectin_st  Resistin_st  MCP.1_st  \n",
      "0         -0.070222    -0.545517 -0.341251  \n",
      "1         -0.697350    -0.864214 -0.191224  \n",
      "2          1.797998    -0.441660  0.058214  \n",
      "3         -0.441945    -0.158867  1.142718  \n",
      "4         -0.786881    -0.336352  0.694716  \n",
      "..              ...          ...       ...  \n",
      "111        0.281654    -0.305255 -0.773527  \n",
      "112        1.649470    -0.600299 -0.593717  \n",
      "113        1.813843    -0.356320 -0.640491  \n",
      "114        3.459038    -0.928577 -0.412832  \n",
      "115        0.576644    -0.841036 -1.290747  \n",
      "\n",
      "[116 rows x 9 columns]\n"
     ]
    }
   ],
   "source": [
    "inputs_ext = inputs.drop(['Age', 'BMI', 'Glucose', 'Insulin', 'HOMA', 'Leptin', 'Adiponectin', 'Resistin', 'MCP.1', 'Classification_st'], axis = 'columns')\n",
    "print(inputs_ext)\n"
   ]
  },
  {
   "cell_type": "code",
   "execution_count": 7,
   "metadata": {},
   "outputs": [
    {
     "ename": "NameError",
     "evalue": "name 'inputs_ext' is not defined",
     "output_type": "error",
     "traceback": [
      "\u001b[1;31m---------------------------------------------------------------------------\u001b[0m",
      "\u001b[1;31mNameError\u001b[0m                                 Traceback (most recent call last)",
      "\u001b[1;32m<ipython-input-7-7de7c15e848d>\u001b[0m in \u001b[0;36m<module>\u001b[1;34m\u001b[0m\n\u001b[0;32m      1\u001b[0m \u001b[1;32mfrom\u001b[0m \u001b[0msklearn\u001b[0m \u001b[1;32mimport\u001b[0m \u001b[0mtree\u001b[0m\u001b[1;33m\u001b[0m\u001b[1;33m\u001b[0m\u001b[0m\n\u001b[0;32m      2\u001b[0m \u001b[0mmodel\u001b[0m \u001b[1;33m=\u001b[0m \u001b[0mtree\u001b[0m\u001b[1;33m.\u001b[0m\u001b[0mDecisionTreeClassifier\u001b[0m\u001b[1;33m(\u001b[0m\u001b[1;33m)\u001b[0m\u001b[1;33m\u001b[0m\u001b[1;33m\u001b[0m\u001b[0m\n\u001b[1;32m----> 3\u001b[1;33m \u001b[0mmodel\u001b[0m\u001b[1;33m.\u001b[0m\u001b[0mfit\u001b[0m\u001b[1;33m(\u001b[0m\u001b[0minputs_ext\u001b[0m\u001b[1;33m,\u001b[0m \u001b[0mtarget\u001b[0m\u001b[1;33m)\u001b[0m\u001b[1;33m\u001b[0m\u001b[1;33m\u001b[0m\u001b[0m\n\u001b[0m\u001b[0;32m      4\u001b[0m \u001b[0mvalue\u001b[0m \u001b[1;33m=\u001b[0m \u001b[0mmodel\u001b[0m\u001b[1;33m.\u001b[0m\u001b[0mscore\u001b[0m\u001b[1;33m(\u001b[0m\u001b[0minputs_ext\u001b[0m\u001b[1;33m,\u001b[0m \u001b[0mtarget\u001b[0m\u001b[1;33m)\u001b[0m\u001b[1;33m\u001b[0m\u001b[1;33m\u001b[0m\u001b[0m\n\u001b[0;32m      5\u001b[0m \u001b[0mprint\u001b[0m\u001b[1;33m(\u001b[0m\u001b[0mvalue\u001b[0m\u001b[1;33m)\u001b[0m\u001b[1;33m\u001b[0m\u001b[1;33m\u001b[0m\u001b[0m\n",
      "\u001b[1;31mNameError\u001b[0m: name 'inputs_ext' is not defined"
     ]
    }
   ],
   "source": [
    "from sklearn import tree\n",
    "model = tree.DecisionTreeClassifier()\n",
    "model.fit(inputs_ext, target)\n",
    "value = model.score(inputs_ext, target)\n",
    "print(value)"
   ]
  },
  {
   "cell_type": "code",
   "execution_count": 31,
   "metadata": {},
   "outputs": [],
   "source": [
    "from sklearn.tree import DecisionTreeClassifier\n",
    "from sklearn.model_selection import train_test_split\n",
    "from sklearn import metrics"
   ]
  },
  {
   "cell_type": "code",
   "execution_count": 8,
   "metadata": {},
   "outputs": [
    {
     "ename": "NameError",
     "evalue": "name 'DecisionTreeClassifier' is not defined",
     "output_type": "error",
     "traceback": [
      "\u001b[1;31m---------------------------------------------------------------------------\u001b[0m",
      "\u001b[1;31mNameError\u001b[0m                                 Traceback (most recent call last)",
      "\u001b[1;32m<ipython-input-8-8136b59996b8>\u001b[0m in \u001b[0;36m<module>\u001b[1;34m\u001b[0m\n\u001b[1;32m----> 1\u001b[1;33m \u001b[0mtree\u001b[0m \u001b[1;33m=\u001b[0m \u001b[0mDecisionTreeClassifier\u001b[0m\u001b[1;33m(\u001b[0m\u001b[1;33m)\u001b[0m\u001b[1;33m\u001b[0m\u001b[1;33m\u001b[0m\u001b[0m\n\u001b[0m\u001b[0;32m      2\u001b[0m \u001b[0mX_train\u001b[0m\u001b[1;33m,\u001b[0m \u001b[0mX_test\u001b[0m\u001b[1;33m,\u001b[0m \u001b[0my_train\u001b[0m\u001b[1;33m,\u001b[0m \u001b[0my_test\u001b[0m \u001b[1;33m=\u001b[0m \u001b[0mtrain_test_split\u001b[0m\u001b[1;33m(\u001b[0m\u001b[0minputs\u001b[0m\u001b[1;33m,\u001b[0m \u001b[0mtarget\u001b[0m\u001b[1;33m,\u001b[0m \u001b[0mtest_size\u001b[0m\u001b[1;33m=\u001b[0m\u001b[1;36m0.75\u001b[0m\u001b[1;33m,\u001b[0m \u001b[0mrandom_state\u001b[0m\u001b[1;33m=\u001b[0m\u001b[1;36m0\u001b[0m\u001b[1;33m)\u001b[0m\u001b[1;33m\u001b[0m\u001b[1;33m\u001b[0m\u001b[0m\n\u001b[0;32m      3\u001b[0m \u001b[1;33m\u001b[0m\u001b[0m\n\u001b[0;32m      4\u001b[0m \u001b[0mtree\u001b[0m \u001b[1;33m=\u001b[0m \u001b[0mtree\u001b[0m\u001b[1;33m.\u001b[0m\u001b[0mfit\u001b[0m\u001b[1;33m(\u001b[0m\u001b[0mX_train\u001b[0m\u001b[1;33m,\u001b[0m\u001b[0my_train\u001b[0m\u001b[1;33m)\u001b[0m\u001b[1;33m\u001b[0m\u001b[1;33m\u001b[0m\u001b[0m\n\u001b[0;32m      5\u001b[0m \u001b[1;33m\u001b[0m\u001b[0m\n",
      "\u001b[1;31mNameError\u001b[0m: name 'DecisionTreeClassifier' is not defined"
     ]
    }
   ],
   "source": [
    "tree = DecisionTreeClassifier()\n",
    "X_train, X_test, y_train, y_test = train_test_split(inputs, target, test_size=0.75, random_state=0)\n",
    "\n",
    "tree = tree.fit(X_train,y_train)\n",
    "\n",
    "y_predict = tree.predict(X_test)\n"
   ]
  },
  {
   "cell_type": "code",
   "execution_count": 33,
   "metadata": {},
   "outputs": [
    {
     "name": "stdout",
     "output_type": "stream",
     "text": [
      "[[41  0]\n",
      " [ 0 46]]\n",
      "Accuracy: 1.0\n"
     ]
    }
   ],
   "source": [
    "print(metrics.confusion_matrix(y_test, y_predict))\n",
    "\n",
    "print(\"Accuracy:\", metrics.accuracy_score(y_test, y_predict))"
   ]
  },
  {
   "cell_type": "code",
   "execution_count": 34,
   "metadata": {},
   "outputs": [],
   "source": [
    "result = model.predict([[1.788816, -0.080447, 1.792721018, 0.987394168, 1.125765748, 3.333167101, 0.576644063, -0.841036164, -1.290746828]])"
   ]
  },
  {
   "cell_type": "code",
   "execution_count": 35,
   "metadata": {},
   "outputs": [
    {
     "name": "stdout",
     "output_type": "stream",
     "text": [
      "[2] The Person is a patient of breast cancer\n"
     ]
    }
   ],
   "source": [
    "\n",
    "if result == 2:\n",
    "    print(result, \"The Person is a patient of breast cancer\")\n",
    "else:\n",
    "    print(result, \"The Person is not a patient of breast cancer\")"
   ]
  },
  {
   "cell_type": "code",
   "execution_count": null,
   "metadata": {},
   "outputs": [],
   "source": []
  }
 ],
 "metadata": {
  "kernelspec": {
   "display_name": "Python 3",
   "language": "python",
   "name": "python3"
  },
  "language_info": {
   "codemirror_mode": {
    "name": "ipython",
    "version": 3
   },
   "file_extension": ".py",
   "mimetype": "text/x-python",
   "name": "python",
   "nbconvert_exporter": "python",
   "pygments_lexer": "ipython3",
   "version": "3.8.5"
  }
 },
 "nbformat": 4,
 "nbformat_minor": 4
}
