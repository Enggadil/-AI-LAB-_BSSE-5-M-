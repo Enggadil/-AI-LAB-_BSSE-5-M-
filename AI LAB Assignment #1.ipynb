{
 "cells": [
  {
   "cell_type": "raw",
   "metadata": {},
   "source": [
    "Write a one-line piece of code, using the print() function, as well as the newline and \n",
    "escape characters, to match the expected result outputted on three lines"
   ]
  },
  {
   "cell_type": "code",
   "execution_count": 7,
   "metadata": {},
   "outputs": [
    {
     "name": "stdout",
     "output_type": "stream",
     "text": [
      "Adil Hussain\n",
      "\n",
      " \"I'm\" \n",
      " \"Learning\" \n",
      " \" Python \" \n"
     ]
    }
   ],
   "source": [
    "print(\"Adil Hussain\\n\")\n",
    "print((\"\"\" \"I'm\" \\n \"Learning\" \\n \" Python \" \"\"\"))"
   ]
  },
  {
   "cell_type": "raw",
   "metadata": {},
   "source": [
    "As you surely know, due to some astronomical reasons, years may be leap or common. \n",
    "The former are 366 days long, while the latter are 365 days long. Since the introduction \n",
    "of the Gregorian calendar (in 1582), the following rule is used to determine the kind of \n",
    "year:\n",
    " If the year number isn't divisible by four, it's a common year;  otherwise, if the year number isn't divisible by 100, it's a leap year;  otherwise, if the year number isn't divisible by 400, it's a common year;  otherwise, it's a leap year.\n",
    "Look at the code in the editor - it only reads a year number, and needs to be completed \n",
    "with the instructions implementing the test we've just described. The code should output \n",
    "one of two possible messages, which are Leap year or Common year, depending on the \n",
    "value entered. It would be good to verify if the entered year falls into the Gregorian era, \n",
    "and output a warning otherwise: Not within the Gregorian calendar period. Tip: use the \n",
    "!= and % operators.\n",
    "Test your code using the data we've provided"
   ]
  },
  {
   "cell_type": "code",
   "execution_count": 8,
   "metadata": {},
   "outputs": [
    {
     "name": "stdout",
     "output_type": "stream",
     "text": [
      " Adil Hussain , 12084\n",
      " \n",
      "Enter the year : 2021\n",
      "Common year \n",
      "This year falls in the Gregorian era\n"
     ]
    }
   ],
   "source": [
    "print(\" Adil Hussain , 12084\\n \")\n",
    "year=float(input(\"Enter the year : \"))\n",
    "if year%4!=0:\n",
    "    print(\"Common year \")\n",
    "elif year%100!=0:\n",
    "     print(\"Leap year \")\n",
    "elif year%400!=0:\n",
    "    print(\"Common year\")\n",
    "else:\n",
    "    print(\"Leap year\")\n",
    "if year>=1582:\n",
    "    print(\"This year falls in the Gregorian era\")\n",
    "else:\n",
    "    print(\"This year not lies within the Gregorian calender era\")"
   ]
  },
  {
   "cell_type": "raw",
   "metadata": {},
   "source": [
    "A car's fuel consumption may be expressed in many different ways. For example, in \n",
    "Europe, it is shown as the amount of fuel consumed per 100 kilometers. In the USA, it is \n",
    "shown as the number of miles traveled by a car using one gallon of fuel. Your task is to \n",
    "write a pair of functions converting l/100km into mpg, and vice versa.\n",
    "The functions:\n",
    " are named l100kmtompg and mpgtol100km respectively;\n",
    " take one argument (the value corresponding to their names)\n",
    "Complete the code in the editor.\n",
    "Run your code and check whether your output is the same as ours.\n",
    "Here is some information to help you:\n",
    " 1 American mile = 1609.344 metres;\n",
    " 1 American gallon = 3.785411784 litres"
   ]
  },
  {
   "cell_type": "code",
   "execution_count": 11,
   "metadata": {},
   "outputs": [
    {
     "name": "stdout",
     "output_type": "stream",
     "text": [
      " Adil Hussain   12084\n",
      " \n",
      "60.31143162393162\n",
      "31.36194444444444\n",
      "23.52145833333333\n",
      "3.9007393587617467\n",
      "7.490910297239916\n"
     ]
    }
   ],
   "source": [
    "print(\" Adil Hussain   12084\\n \")\n",
    "def l1100kmtompg(liters):\n",
    "    kmin1liter=100/liters\n",
    "    mileperliter=kmin1liter/1.609344\n",
    "    mpg=mileperliter*3.785411784\n",
    "    return mpg\n",
    "def mpgtol100km(miles):\n",
    "    kmpergallon=miles * 1.609344\n",
    "    kmperliter=kmpergallon / 3.785411784\n",
    "    res =100/kmperliter\n",
    "    return res\n",
    "print(l1100kmtompg(3.9))\n",
    "print(l1100kmtompg(7.5))\n",
    "print(l1100kmtompg(10.))\n",
    "print(mpgtol100km(60.3))\n",
    "print(mpgtol100km(31.4))"
   ]
  },
  {
   "cell_type": "code",
   "execution_count": null,
   "metadata": {},
   "outputs": [],
   "source": []
  }
 ],
 "metadata": {
  "kernelspec": {
   "display_name": "Python 3",
   "language": "python",
   "name": "python3"
  },
  "language_info": {
   "codemirror_mode": {
    "name": "ipython",
    "version": 3
   },
   "file_extension": ".py",
   "mimetype": "text/x-python",
   "name": "python",
   "nbconvert_exporter": "python",
   "pygments_lexer": "ipython3",
   "version": "3.8.5"
  }
 },
 "nbformat": 4,
 "nbformat_minor": 4
}
