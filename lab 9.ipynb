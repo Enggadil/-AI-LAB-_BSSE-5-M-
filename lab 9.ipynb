{
 "cells": [
  {
   "cell_type": "markdown",
   "metadata": {},
   "source": [
    "# Write a NumPy program to create a random 10x4 array and extract the first five rows of the array and store them into a variable."
   ]
  },
  {
   "cell_type": "code",
   "execution_count": 33,
   "metadata": {},
   "outputs": [
    {
     "name": "stdout",
     "output_type": "stream",
     "text": [
      "Original array: \n",
      "[[0.28404921 0.84769514 0.83040111 0.63943484]\n",
      " [0.35863419 0.01718657 0.45996249 0.1323171 ]\n",
      " [0.53616599 0.12945866 0.10769821 0.81223977]\n",
      " [0.36043516 0.83675147 0.50477546 0.36126714]\n",
      " [0.9850263  0.73417852 0.3576464  0.38418197]\n",
      " [0.44208956 0.26463707 0.57447879 0.38364309]\n",
      " [0.97860936 0.31513299 0.68460788 0.61647994]\n",
      " [0.43609872 0.23051155 0.31519263 0.04098768]\n",
      " [0.44295128 0.76464256 0.5530644  0.99282576]\n",
      " [0.24689236 0.74291406 0.20192339 0.61664756]]\n",
      "First 5 rows of the above array:\n",
      "[[0.28404921 0.84769514 0.83040111 0.63943484]\n",
      " [0.35863419 0.01718657 0.45996249 0.1323171 ]\n",
      " [0.53616599 0.12945866 0.10769821 0.81223977]\n",
      " [0.36043516 0.83675147 0.50477546 0.36126714]\n",
      " [0.9850263  0.73417852 0.3576464  0.38418197]]\n"
     ]
    }
   ],
   "source": [
    "import numpy as np\n",
    "x = np.random.rand(10, 4)\n",
    "print(\"Original array: \")\n",
    "print(x)\n",
    "y= x[:5, :]\n",
    "print(\"First 5 rows of the above array:\")\n",
    "print(y)"
   ]
  },
  {
   "cell_type": "markdown",
   "metadata": {},
   "source": [
    "# Write a Pandas program to select the rows where the number of attempts in the examination is\n",
    "greater than 2.\n",
    "Sample Python dictionary data and list labels:\n",
    "exam_data = {'name': ['Anastasia', 'Dima', 'Katherine', 'James', 'Emily', 'Michael', 'Matthew',\n",
    "'Laura', 'Kevin', 'Jonas'],\n",
    "'score': [12.5, 9, 16.5, np.nan, 9, 20, 14.5, np.nan, 8, 19],\n",
    "'attempts': [1, 3, 2, 3, 2, 3, 1, 1, 2, 1],\n",
    "'qualify': ['yes', 'no', 'yes', 'no', 'no', 'yes', 'yes', 'no', 'no', 'yes']}\n",
    "labels = ['a', 'b', 'c', 'd', 'e', 'f', 'g', 'h', 'i', 'j']\n",
    "Expected Output:\n",
    "Number of attempts in the examination is greater than 2:\n",
    "name score attempts qualify\n",
    "b Dima 9.0 3 no\n",
    "d James NaN 3 no\n",
    "f Michael 20.0 3 yes"
   ]
  },
  {
   "cell_type": "code",
   "execution_count": 12,
   "metadata": {},
   "outputs": [
    {
     "name": "stdout",
     "output_type": "stream",
     "text": [
      "Number of attempts in the examination is greater than 2  :\n",
      "      name  score  attempts qualify\n",
      "b     Dima    9.0         3      no\n",
      "d    James    NaN         3      no\n",
      "f  Michael   20.0         3     yes\n"
     ]
    }
   ],
   "source": [
    "import pandas as pd\n",
    "import numpy as np\n",
    "\n",
    "exam_data  = {'name': ['Anastasia', 'Dima', 'Katherine', 'James', 'Emily', 'Michael', 'Matthew', 'Laura', 'Kevin', 'Jonas'],\n",
    "        'score': [12.5, 9, 16.5, np.nan, 9, 20, 14.5, np.nan, 8, 19],\n",
    "        'attempts': [1, 3, 2, 3, 2, 3, 1, 1, 2, 1],\n",
    "        'qualify': ['yes', 'no', 'yes', 'no', 'no', 'yes', 'yes', 'no', 'no', 'yes']}\n",
    "\n",
    "labels = ['a', 'b', 'c', 'd', 'e', 'f', 'g', 'h', 'i', 'j']\n",
    "\n",
    "df = pd.DataFrame(exam_data , index=labels)\n",
    "print(\"Number of attempts in the examination is greater than 2  :\")\n",
    "print(df[(df['attempts'] > 2)]) "
   ]
  },
  {
   "cell_type": "markdown",
   "metadata": {},
   "source": [
    "# From the sample data given in TASK 2; write a program to calculate the average of the scores. The\n",
    "program should be able to ignore NaN values.\n",
    "Expected Output:\n",
    "The average score is : 13.56"
   ]
  },
  {
   "cell_type": "code",
   "execution_count": 34,
   "metadata": {},
   "outputs": [
    {
     "name": "stdout",
     "output_type": "stream",
     "text": [
      "a    12.5\n",
      "b     9.0\n",
      "c    16.5\n",
      "d     0.0\n",
      "e     9.0\n",
      "f    20.0\n",
      "g    14.5\n",
      "h     0.0\n",
      "i     8.0\n",
      "j    19.0\n",
      "Name: score, dtype: float64\n",
      "10.85\n"
     ]
    }
   ],
   "source": [
    "import pandas as pd\n",
    "import numpy as np\n",
    "\n",
    "exam_data  = {'name': ['Anastasia', 'Dima', 'Katherine', 'James', 'Emily', 'Michael', 'Matthew', 'Laura', 'Kevin', 'Jonas'],\n",
    "        'score': [12.5, 9, 16.5, np.nan, 9, 20, 14.5, np.nan, 8, 19],\n",
    "        'attempts': [1, 3, 2, 3, 2, 3, 1, 1, 2, 1],\n",
    "        'qualify': ['yes', 'no', 'yes', 'no', 'no', 'yes', 'yes', 'no', 'no', 'yes']}\n",
    "\n",
    "labels = ['a', 'b', 'c', 'd', 'e', 'f', 'g', 'h', 'i', 'j']\n",
    "\n",
    "df = pd.DataFrame(exam_data , index=labels)\n",
    "# print(\"Number of attempts in the examination is greater than 2  :\")\n",
    "# print(df[(df['attempts'] > 2)])\n",
    "df['score'] = df['score'].fillna(0)\n",
    "print(df.score)\n",
    "print(df.score.mean())"
   ]
  },
  {
   "cell_type": "code",
   "execution_count": null,
   "metadata": {},
   "outputs": [],
   "source": [
    "\n"
   ]
  },
  {
   "cell_type": "code",
   "execution_count": 22,
   "metadata": {},
   "outputs": [],
   "source": []
  },
  {
   "cell_type": "code",
   "execution_count": null,
   "metadata": {},
   "outputs": [],
   "source": []
  },
  {
   "cell_type": "code",
   "execution_count": 25,
   "metadata": {},
   "outputs": [],
   "source": []
  },
  {
   "cell_type": "code",
   "execution_count": null,
   "metadata": {},
   "outputs": [],
   "source": []
  },
  {
   "cell_type": "code",
   "execution_count": null,
   "metadata": {},
   "outputs": [],
   "source": []
  }
 ],
 "metadata": {
  "kernelspec": {
   "display_name": "Python 3",
   "language": "python",
   "name": "python3"
  },
  "language_info": {
   "codemirror_mode": {
    "name": "ipython",
    "version": 3
   },
   "file_extension": ".py",
   "mimetype": "text/x-python",
   "name": "python",
   "nbconvert_exporter": "python",
   "pygments_lexer": "ipython3",
   "version": "3.8.5"
  }
 },
 "nbformat": 4,
 "nbformat_minor": 4
}
