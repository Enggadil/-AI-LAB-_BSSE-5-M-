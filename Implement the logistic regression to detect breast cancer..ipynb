{
 "cells": [
  {
   "cell_type": "code",
   "execution_count": 1,
   "metadata": {},
   "outputs": [],
   "source": [
    "import pandas as pd\n",
    "from sklearn import metrics\n",
    "import seaborn as sn\n",
    "import matplotlib.pyplot as plt\n",
    "from sklearn.model_selection import train_test_split\n",
    "from sklearn.linear_model import LogisticRegression"
   ]
  },
  {
   "cell_type": "code",
   "execution_count": 2,
   "metadata": {},
   "outputs": [
    {
     "name": "stdout",
     "output_type": "stream",
     "text": [
      "   Age        BMI  Glucose  Insulin      HOMA   Leptin  Adiponectin  Resistin  \\\n",
      "0   48  23.500000       70    2.707  0.467409   8.8071     9.702400   7.99585   \n",
      "1   83  20.690495       92    3.115  0.706897   8.8438     5.429285   4.06405   \n",
      "2   82  23.124670       91    4.498  1.009651  17.9393    22.432040   9.27715   \n",
      "3   68  21.367521       77    3.226  0.612725   9.8827     7.169560  12.76600   \n",
      "4   86  21.111111       92    3.549  0.805386   6.6994     4.819240  10.57635   \n",
      "\n",
      "     MCP.1  Classification    Age_st    BMI_st  Glucose_st  Insulin_st  \\\n",
      "0  417.114               1 -0.579794 -0.816675   -1.239222   -0.728739   \n",
      "1  468.786               1  1.601821 -1.378751   -0.258299   -0.688038   \n",
      "2  554.697               1  1.539489 -0.891764   -0.302887   -0.550073   \n",
      "3  928.220               1  0.666843 -1.243303   -0.927110   -0.676965   \n",
      "4  773.920               1  1.788816 -1.294601   -0.258299   -0.644743   \n",
      "\n",
      "    HOMA_st  Leptin_st  Adiponectin_st  Resistin_st  MCP.1_st  \\\n",
      "0 -0.614282  -0.932334       -0.070222    -0.545517 -0.341251   \n",
      "1 -0.548240  -0.930413       -0.697350    -0.864214 -0.191224   \n",
      "2 -0.464752  -0.454219        1.797998    -0.441660  0.058214   \n",
      "3 -0.574210  -0.876021       -0.441945    -0.158867  1.142718   \n",
      "4 -0.521081  -1.042682       -0.786881    -0.336352  0.694716   \n",
      "\n",
      "   Classification_st  \n",
      "0            -1.1094  \n",
      "1            -1.1094  \n",
      "2            -1.1094  \n",
      "3            -1.1094  \n",
      "4            -1.1094  \n"
     ]
    }
   ],
   "source": [
    "data = pd.read_csv(\"dataset_stan.csv\")\n",
    "\n",
    "Raw_data = data.head()\n",
    "print(Raw_data)"
   ]
  },
  {
   "cell_type": "code",
   "execution_count": 4,
   "metadata": {},
   "outputs": [
    {
     "name": "stdout",
     "output_type": "stream",
     "text": [
      "0      1\n",
      "1      1\n",
      "2      1\n",
      "3      1\n",
      "4      1\n",
      "      ..\n",
      "111    2\n",
      "112    2\n",
      "113    2\n",
      "114    2\n",
      "115    2\n",
      "Name: Classification, Length: 116, dtype: int64\n"
     ]
    }
   ],
   "source": [
    "# Now, set the independent variables (represented as X) and the dependent variable (represented as y):\n",
    "# Here X (Independent variable) = inputs_ext\n",
    "# And  Y (dependent variable)   = target\n",
    "nputs = data.drop('Classification', axis='columns')\n",
    "target = data['Classification']\n",
    "print(target)"
   ]
  },
  {
   "cell_type": "code",
   "execution_count": 5,
   "metadata": {},
   "outputs": [
    {
     "name": "stdout",
     "output_type": "stream",
     "text": [
      "       Age_st    BMI_st  Glucose_st  Insulin_st   HOMA_st  Leptin_st  \\\n",
      "0   -0.579794 -0.816675   -1.239222   -0.728739 -0.614282  -0.932334   \n",
      "1    1.601821 -1.378751   -0.258299   -0.688038 -0.548240  -0.930413   \n",
      "2    1.539489 -0.891764   -0.302887   -0.550073 -0.464752  -0.454219   \n",
      "3    0.666843 -1.243303   -0.927110   -0.676965 -0.574210  -0.876021   \n",
      "4    1.788816 -1.294601   -0.258299   -0.644743 -0.521081  -1.042682   \n",
      "..        ...       ...         ...         ...       ...        ...   \n",
      "111 -0.766789 -0.146468   -0.258299   -0.666590 -0.534786   1.469335   \n",
      "112  0.292852 -0.148468    0.098400   -0.546881 -0.435039  -0.741611   \n",
      "113  0.479848  0.893855   -0.035362   -0.427172 -0.365106   1.825348   \n",
      "114  0.916171 -0.398546   -0.704173   -0.717467 -0.585883  -0.086651   \n",
      "115  1.788816 -0.080447    1.792721    0.987394  1.125766   3.333167   \n",
      "\n",
      "     Adiponectin_st  Resistin_st  MCP.1_st  \n",
      "0         -0.070222    -0.545517 -0.341251  \n",
      "1         -0.697350    -0.864214 -0.191224  \n",
      "2          1.797998    -0.441660  0.058214  \n",
      "3         -0.441945    -0.158867  1.142718  \n",
      "4         -0.786881    -0.336352  0.694716  \n",
      "..              ...          ...       ...  \n",
      "111        0.281654    -0.305255 -0.773527  \n",
      "112        1.649470    -0.600299 -0.593717  \n",
      "113        1.813843    -0.356320 -0.640491  \n",
      "114        3.459038    -0.928577 -0.412832  \n",
      "115        0.576644    -0.841036 -1.290747  \n",
      "\n",
      "[116 rows x 9 columns]\n"
     ]
    }
   ],
   "source": [
    "inputs_ext = inputs.drop(['Age', 'BMI', 'Glucose', 'Insulin', 'HOMA', 'Leptin', 'Adiponectin', 'Resistin', 'MCP.1', 'Classification_st'], axis = 'columns')\n",
    "print(inputs_ext)"
   ]
  },
  {
   "cell_type": "code",
   "execution_count": 6,
   "metadata": {},
   "outputs": [],
   "source": [
    "x_train, x_test, y_train, y_test = train_test_split(inputs_ext, target, test_size=0.25, random_state=0)"
   ]
  },
  {
   "cell_type": "code",
   "execution_count": 10,
   "metadata": {},
   "outputs": [],
   "source": [
    "logistic_regression = LogisticRegression()\n",
    "logistic_regression.fit(x_train, y_train)\n",
    "y_pred = logistic_regression.predict(x_test)\n"
   ]
  },
  {
   "cell_type": "code",
   "execution_count": 9,
   "metadata": {},
   "outputs": [
    {
     "data": {
      "text/plain": [
       "<AxesSubplot:xlabel='Predicted', ylabel='Actual'>"
      ]
     },
     "execution_count": 9,
     "metadata": {},
     "output_type": "execute_result"
    },
    {
     "data": {
      "image/png": "[encoded data removed]",
      "text/plain": [
       "<Figure size 432x288 with 2 Axes>"
      ]
     },
     "metadata": {
      "needs_background": "light"
     },
     "output_type": "display_data"
    }
   ],
   "source": [
    "confusion_matrix = pd.crosstab(y_test, y_pred, rownames=['Actual'], colnames=['Predicted'])\n",
    "sn.heatmap(confusion_matrix, annot=True)\n"
   ]
  },
  {
   "cell_type": "code",
   "execution_count": 11,
   "metadata": {},
   "outputs": [
    {
     "name": "stdout",
     "output_type": "stream",
     "text": [
      "Accuracy:  0.5862068965517241\n"
     ]
    }
   ],
   "source": [
    "print('Accuracy: ', metrics.accuracy_score(y_test, y_pred))"
   ]
  },
  {
   "cell_type": "code",
   "execution_count": null,
   "metadata": {},
   "outputs": [],
   "source": []
  }
 ],
 "metadata": {
  "kernelspec": {
   "display_name": "Python 3",
   "language": "python",
   "name": "python3"
  },
  "language_info": {
   "codemirror_mode": {
    "name": "ipython",
    "version": 3
   },
   "file_extension": ".py",
   "mimetype": "text/x-python",
   "name": "python",
   "nbconvert_exporter": "python",
   "pygments_lexer": "ipython3",
   "version": "3.8.5"
  }
 },
 "nbformat": 4,
 "nbformat_minor": 4
}
