{
 "cells": [
  {
   "cell_type": "code",
   "execution_count": null,
   "metadata": {},
   "outputs": [
    {
     "name": "stdout",
     "output_type": "stream",
     "text": [
      "..........................................................\n",
      "..........................................................\n",
      "1. Soup and salad\n",
      "2. Pasta with meat sauce\n",
      "3. Chef's special\n",
      "4. Quit\n",
      "..........................................................\n"
     ]
    }
   ],
   "source": [
    "\n",
    "def mainmenu(): \n",
    "    print(\"..........................................................\")    \n",
    "    print(\"1. Soup and salad\") \n",
    "    print(\"2. Pasta with meat sauce\") \n",
    "    print(\"3. Chef's special\")    \n",
    "    print(\"4. Quit\") \n",
    "    print(\"..........................................................\")  \n",
    "    while(True):\n",
    "         try:\n",
    "                 selection=int(input(\"Which number would you like to order?   \"))\n",
    "                 if selection==1: \n",
    "                        selection1() \n",
    "                        break\n",
    "                 elif selection==2:\n",
    "                        selection2()\n",
    "                        break\n",
    "                 elif selection==3:\n",
    "                        selection3() \n",
    "                        break\n",
    "                    \n",
    "                 elif selection==4: \n",
    "                        break\n",
    "                 else:\n",
    "                        print(\"Sorry, that is not a valid choice.\") \n",
    "         except valueError:\n",
    "                 print(\"Sorry, that is not a valid choice.\") \n",
    "                 exit()  \n",
    "                        \n",
    "def selection1(): \n",
    "    print(\" You choose Soup and salad\") \n",
    "    anykey=input(\"Enter anything to return to main Menu :  \")  \n",
    "    mainmenu()\n",
    "def selection2(): \n",
    "    print(\"You choose Pasta with meat sauce coming right up\")   \n",
    "    anykey=input(\"Enter anything to return to main Menu :  \") \n",
    "    mainmenu() \n",
    "def selection3(): \n",
    "    print(\"You choose Chef's special\") \n",
    "    anykey=input(\"Enter anything to return to main Menu :  \")    \n",
    "    mainmenu() \n",
    "print(\"..........................................................\") \n",
    "mainmenu() \n",
    "print(\"..........................................................\") \n",
    " \n",
    " \n"
   ]
  },
  {
   "cell_type": "code",
   "execution_count": null,
   "metadata": {},
   "outputs": [],
   "source": []
  }
 ],
 "metadata": {
  "kernelspec": {
   "display_name": "Python 3",
   "language": "python",
   "name": "python3"
  },
  "language_info": {
   "codemirror_mode": {
    "name": "ipython",
    "version": 3
   },
   "file_extension": ".py",
   "mimetype": "text/x-python",
   "name": "python",
   "nbconvert_exporter": "python",
   "pygments_lexer": "ipython3",
   "version": "3.7.6"
  }
 },
 "nbformat": 4,
 "nbformat_minor": 4
}
